{
 "cells": [
  {
   "cell_type": "markdown",
   "id": "3cfa0beb-f114-452f-9dfb-86737cd92d8c",
   "metadata": {},
   "source": [
    "# 1. Python Basics Exercises\n",
    "## Solutions\n"
   ]
  },
  {
   "cell_type": "code",
   "execution_count": 7,
   "id": "0d5dc4d1-89f5-4619-b08f-58056b3aca20",
   "metadata": {},
   "outputs": [
    {
     "name": "stdout",
     "output_type": "stream",
     "text": [
      "The average is: 86.8\n"
     ]
    }
   ],
   "source": [
    "# 1.1 Create a script that calculates the average of a list of numbers:\n",
    "\n",
    "my_list = [80, 90, 95, 87, 82]\n",
    "\n",
    "def calculate_average(numbers):\n",
    "    return sum(numbers) / len(numbers)\n",
    "\n",
    "average = calculate_average(my_list)\n",
    "print(\"The average is:\", average)"
   ]
  },
  {
   "cell_type": "code",
   "execution_count": 8,
   "id": "3d78dc15-3cbc-4346-bb84-1200a97c1be5",
   "metadata": {},
   "outputs": [
    {
     "name": "stdout",
     "output_type": "stream",
     "text": [
      "5 x 1 = 5\n",
      "5 x 2 = 10\n",
      "5 x 3 = 15\n",
      "5 x 4 = 20\n",
      "5 x 5 = 25\n",
      "5 x 6 = 30\n",
      "5 x 7 = 35\n",
      "5 x 8 = 40\n",
      "5 x 9 = 45\n",
      "5 x 10 = 50\n"
     ]
    }
   ],
   "source": [
    "# 1.2 Creare a script that generates a multiplication Table.\n",
    "\n",
    "def generate_multiplication_table(number):\n",
    "    for i in range(1, 11):\n",
    "        result = i * number\n",
    "        print(f\"{number} x {i} = {result}\")\n",
    "\n",
    "generate_multiplication_table(5)\n"
   ]
  },
  {
   "cell_type": "code",
   "execution_count": 29,
   "id": "9c109403-cd8e-4a6e-85e5-0d30404ea74c",
   "metadata": {},
   "outputs": [
    {
     "name": "stdout",
     "output_type": "stream",
     "text": [
      "| Number | Result |\n",
      "| ------ | ------ |\n",
      "|  1     |     15 |\n",
      "|  2     |     30 |\n",
      "|  3     |     45 |\n",
      "|  4     |     60 |\n",
      "|  5     |     75 |\n",
      "|  6     |     90 |\n",
      "\n"
     ]
    }
   ],
   "source": [
    "#Optional - Using Markdown to better format\n",
    "def generate_multiplication_table(number):\n",
    "    table = \"| Number | Result |\\n| ------ | ------ |\\n\"\n",
    "    for i in range(1, 7):\n",
    "        result = i * number\n",
    "        table += f\"|  {i}     |     {result} |\\n\"\n",
    "    return table\n",
    "\n",
    "print(generate_multiplication_table(15))\n"
   ]
  }
 ],
 "metadata": {
  "kernelspec": {
   "display_name": "Python 3 (ipykernel)",
   "language": "python",
   "name": "python3"
  },
  "language_info": {
   "codemirror_mode": {
    "name": "ipython",
    "version": 3
   },
   "file_extension": ".py",
   "mimetype": "text/x-python",
   "name": "python",
   "nbconvert_exporter": "python",
   "pygments_lexer": "ipython3",
   "version": "3.10.9"
  }
 },
 "nbformat": 4,
 "nbformat_minor": 5
}
